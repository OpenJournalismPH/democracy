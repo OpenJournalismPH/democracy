{
 "cells": [
  {
   "cell_type": "markdown",
   "metadata": {},
   "source": [
    "# Democracy\n",
    "* See [Rappler article](https://www.rappler.com/thought-leaders/189083-democracy-constraint-infrastructure-development) by JC Punongbayan\n",
    "* Data curated by Jerome P. de Leon\n",
    "\n",
    "Data Sources\n",
    "* Global Competitiveness Report [2016-2017](https://www.weforum.org/reports/the-global-competitiveness-report-2016-2017-1)\n",
    "* Democracy Index [2016](http://www.eiu.com/public/thankyou_download.aspx?activity=download&campaignid=DemocracyIndex2016)"
   ]
  },
  {
   "cell_type": "markdown",
   "metadata": {},
   "source": [
    "![img](Dem1.png)"
   ]
  },
  {
   "cell_type": "markdown",
   "metadata": {},
   "source": [
    "```\n",
    "Figure 1. Note: Data include 136 countries. The white line in each box signifies the median value; the bottom and top edges of each box refer to the 1st and 3rd quartiles; the bottom and top lines refer to the minimum and maximum values; a dot represents an outlier (the sole outlier here is Hong Kong)\n",
    "```"
   ]
  },
  {
   "cell_type": "markdown",
   "metadata": {},
   "source": [
    "## Reading the data"
   ]
  },
  {
   "cell_type": "code",
   "execution_count": 13,
   "metadata": {
    "ExecuteTime": {
     "end_time": "2017-11-23T05:55:42.409264Z",
     "start_time": "2017-11-23T05:55:42.399569Z"
    }
   },
   "outputs": [],
   "source": [
    "#styling\n",
    "import matplotlib.pyplot as pl\n",
    "%matplotlib inline\n",
    "import matplotlib\n",
    "matplotlib.rcParams.update({'font.size': 18})\n",
    "pl.rcParams['ytick.labelsize'] = 'large'\n",
    "pl.rcParams['xtick.labelsize'] = 'large'\n",
    "fontsize=18"
   ]
  },
  {
   "cell_type": "code",
   "execution_count": 14,
   "metadata": {
    "ExecuteTime": {
     "end_time": "2017-11-23T05:55:42.422330Z",
     "start_time": "2017-11-23T05:55:42.411731Z"
    }
   },
   "outputs": [],
   "source": [
    "import pandas as pd\n",
    "\n",
    "data=pd.read_csv('democracy.csv')"
   ]
  },
  {
   "cell_type": "code",
   "execution_count": 15,
   "metadata": {
    "ExecuteTime": {
     "end_time": "2017-11-23T05:55:42.433104Z",
     "start_time": "2017-11-23T05:55:42.426121Z"
    }
   },
   "outputs": [
    {
     "data": {
      "text/plain": [
       "(169, 21)"
      ]
     },
     "execution_count": 15,
     "metadata": {},
     "output_type": "execute_result"
    }
   ],
   "source": [
    "data.shape"
   ]
  },
  {
   "cell_type": "code",
   "execution_count": 16,
   "metadata": {
    "ExecuteTime": {
     "end_time": "2017-11-23T05:55:42.444551Z",
     "start_time": "2017-11-23T05:55:42.436818Z"
    }
   },
   "outputs": [
    {
     "data": {
      "text/plain": [
       "Index(['countryname', 'countryname2', 'dscore', 'dscore1', 'dscore2',\n",
       "       'dscore3', 'dscore4', 'dscore5', 'dcat', 'gcr_rank', 'gcr_score',\n",
       "       'gcr1_rank', 'gcr1_score', 'gcr2_rank', 'gcr2_score', 'gcr3_rank',\n",
       "       'gcr3_score', 'gcr4_rank', 'gcr4_score', '_merge', 'regime'],\n",
       "      dtype='object')"
      ]
     },
     "execution_count": 16,
     "metadata": {},
     "output_type": "execute_result"
    }
   ],
   "source": [
    "data.columns"
   ]
  },
  {
   "cell_type": "code",
   "execution_count": 17,
   "metadata": {
    "ExecuteTime": {
     "end_time": "2017-11-23T05:55:42.495890Z",
     "start_time": "2017-11-23T05:55:42.448379Z"
    }
   },
   "outputs": [
    {
     "data": {
      "text/html": [
       "<div>\n",
       "<style>\n",
       "    .dataframe thead tr:only-child th {\n",
       "        text-align: right;\n",
       "    }\n",
       "\n",
       "    .dataframe thead th {\n",
       "        text-align: left;\n",
       "    }\n",
       "\n",
       "    .dataframe tbody tr th {\n",
       "        vertical-align: top;\n",
       "    }\n",
       "</style>\n",
       "<table border=\"1\" class=\"dataframe\">\n",
       "  <thead>\n",
       "    <tr style=\"text-align: right;\">\n",
       "      <th></th>\n",
       "      <th>countryname</th>\n",
       "      <th>countryname2</th>\n",
       "      <th>dscore</th>\n",
       "      <th>dscore1</th>\n",
       "      <th>dscore2</th>\n",
       "      <th>dscore3</th>\n",
       "      <th>dscore4</th>\n",
       "      <th>dscore5</th>\n",
       "      <th>dcat</th>\n",
       "      <th>gcr_rank</th>\n",
       "      <th>...</th>\n",
       "      <th>gcr1_rank</th>\n",
       "      <th>gcr1_score</th>\n",
       "      <th>gcr2_rank</th>\n",
       "      <th>gcr2_score</th>\n",
       "      <th>gcr3_rank</th>\n",
       "      <th>gcr3_score</th>\n",
       "      <th>gcr4_rank</th>\n",
       "      <th>gcr4_score</th>\n",
       "      <th>_merge</th>\n",
       "      <th>regime</th>\n",
       "    </tr>\n",
       "  </thead>\n",
       "  <tbody>\n",
       "    <tr>\n",
       "      <th>0</th>\n",
       "      <td>North Korea</td>\n",
       "      <td>NaN</td>\n",
       "      <td>1.08</td>\n",
       "      <td>0.00</td>\n",
       "      <td>2.50</td>\n",
       "      <td>1.67</td>\n",
       "      <td>1.25</td>\n",
       "      <td>0.00</td>\n",
       "      <td>Authoritarian</td>\n",
       "      <td>NaN</td>\n",
       "      <td>...</td>\n",
       "      <td>NaN</td>\n",
       "      <td>NaN</td>\n",
       "      <td>NaN</td>\n",
       "      <td>NaN</td>\n",
       "      <td>NaN</td>\n",
       "      <td>NaN</td>\n",
       "      <td>NaN</td>\n",
       "      <td>NaN</td>\n",
       "      <td>1</td>\n",
       "      <td>1</td>\n",
       "    </tr>\n",
       "    <tr>\n",
       "      <th>1</th>\n",
       "      <td>Syria</td>\n",
       "      <td>NaN</td>\n",
       "      <td>1.43</td>\n",
       "      <td>0.00</td>\n",
       "      <td>0.00</td>\n",
       "      <td>2.78</td>\n",
       "      <td>4.38</td>\n",
       "      <td>0.00</td>\n",
       "      <td>Authoritarian</td>\n",
       "      <td>NaN</td>\n",
       "      <td>...</td>\n",
       "      <td>NaN</td>\n",
       "      <td>NaN</td>\n",
       "      <td>NaN</td>\n",
       "      <td>NaN</td>\n",
       "      <td>NaN</td>\n",
       "      <td>NaN</td>\n",
       "      <td>NaN</td>\n",
       "      <td>NaN</td>\n",
       "      <td>1</td>\n",
       "      <td>1</td>\n",
       "    </tr>\n",
       "    <tr>\n",
       "      <th>2</th>\n",
       "      <td>Chad</td>\n",
       "      <td>Chad</td>\n",
       "      <td>1.50</td>\n",
       "      <td>0.00</td>\n",
       "      <td>0.00</td>\n",
       "      <td>1.11</td>\n",
       "      <td>3.75</td>\n",
       "      <td>2.65</td>\n",
       "      <td>Authoritarian</td>\n",
       "      <td>135.0</td>\n",
       "      <td>...</td>\n",
       "      <td>136.0</td>\n",
       "      <td>2.68</td>\n",
       "      <td>137.0</td>\n",
       "      <td>1.75</td>\n",
       "      <td>105.0</td>\n",
       "      <td>4.07</td>\n",
       "      <td>131.0</td>\n",
       "      <td>3.83</td>\n",
       "      <td>3</td>\n",
       "      <td>1</td>\n",
       "    </tr>\n",
       "    <tr>\n",
       "      <th>3</th>\n",
       "      <td>Central African Republic</td>\n",
       "      <td>NaN</td>\n",
       "      <td>1.61</td>\n",
       "      <td>1.75</td>\n",
       "      <td>0.36</td>\n",
       "      <td>1.11</td>\n",
       "      <td>2.50</td>\n",
       "      <td>2.35</td>\n",
       "      <td>Authoritarian</td>\n",
       "      <td>NaN</td>\n",
       "      <td>...</td>\n",
       "      <td>NaN</td>\n",
       "      <td>NaN</td>\n",
       "      <td>NaN</td>\n",
       "      <td>NaN</td>\n",
       "      <td>NaN</td>\n",
       "      <td>NaN</td>\n",
       "      <td>NaN</td>\n",
       "      <td>NaN</td>\n",
       "      <td>1</td>\n",
       "      <td>1</td>\n",
       "    </tr>\n",
       "    <tr>\n",
       "      <th>4</th>\n",
       "      <td>Equatorial Guinea</td>\n",
       "      <td>NaN</td>\n",
       "      <td>1.70</td>\n",
       "      <td>0.00</td>\n",
       "      <td>0.43</td>\n",
       "      <td>2.22</td>\n",
       "      <td>4.38</td>\n",
       "      <td>1.47</td>\n",
       "      <td>Authoritarian</td>\n",
       "      <td>NaN</td>\n",
       "      <td>...</td>\n",
       "      <td>NaN</td>\n",
       "      <td>NaN</td>\n",
       "      <td>NaN</td>\n",
       "      <td>NaN</td>\n",
       "      <td>NaN</td>\n",
       "      <td>NaN</td>\n",
       "      <td>NaN</td>\n",
       "      <td>NaN</td>\n",
       "      <td>1</td>\n",
       "      <td>1</td>\n",
       "    </tr>\n",
       "  </tbody>\n",
       "</table>\n",
       "<p>5 rows × 21 columns</p>\n",
       "</div>"
      ],
      "text/plain": [
       "                countryname countryname2  dscore  dscore1  dscore2  dscore3  \\\n",
       "0               North Korea          NaN    1.08     0.00     2.50     1.67   \n",
       "1                     Syria          NaN    1.43     0.00     0.00     2.78   \n",
       "2                      Chad         Chad    1.50     0.00     0.00     1.11   \n",
       "3  Central African Republic          NaN    1.61     1.75     0.36     1.11   \n",
       "4         Equatorial Guinea          NaN    1.70     0.00     0.43     2.22   \n",
       "\n",
       "   dscore4  dscore5           dcat  gcr_rank   ...    gcr1_rank  gcr1_score  \\\n",
       "0     1.25     0.00  Authoritarian       NaN   ...          NaN         NaN   \n",
       "1     4.38     0.00  Authoritarian       NaN   ...          NaN         NaN   \n",
       "2     3.75     2.65  Authoritarian     135.0   ...        136.0        2.68   \n",
       "3     2.50     2.35  Authoritarian       NaN   ...          NaN         NaN   \n",
       "4     4.38     1.47  Authoritarian       NaN   ...          NaN         NaN   \n",
       "\n",
       "   gcr2_rank  gcr2_score  gcr3_rank  gcr3_score  gcr4_rank  gcr4_score  \\\n",
       "0        NaN         NaN        NaN         NaN        NaN         NaN   \n",
       "1        NaN         NaN        NaN         NaN        NaN         NaN   \n",
       "2      137.0        1.75      105.0        4.07      131.0        3.83   \n",
       "3        NaN         NaN        NaN         NaN        NaN         NaN   \n",
       "4        NaN         NaN        NaN         NaN        NaN         NaN   \n",
       "\n",
       "   _merge  regime  \n",
       "0       1       1  \n",
       "1       1       1  \n",
       "2       3       1  \n",
       "3       1       1  \n",
       "4       1       1  \n",
       "\n",
       "[5 rows x 21 columns]"
      ]
     },
     "execution_count": 17,
     "metadata": {},
     "output_type": "execute_result"
    }
   ],
   "source": [
    "data.head()"
   ]
  },
  {
   "cell_type": "markdown",
   "metadata": {},
   "source": [
    "Pillars: gcr*_score columns\n",
    "* gcr1_score: Institutions\n",
    "* gcr2_score: Infrastructure\n",
    "* gcr3_score: Macroeconomic environment\n",
    "* gcr4_score: Health and primary education\n",
    "* gcr5_score: Higher education and training\n",
    "* gcr6_score: Goods market efficiency\n",
    "* gcr7_score: Labor market efficiency\n",
    "* gcr8_score: Financial market development\n",
    "* gcr9_score: Technological readiness\n",
    "* gcr10_score: Market size\n",
    "* gcr11_score: Business sophistication\n",
    "* gcr12_score: Innovation\n",
    "(c.f. Fig. 2 of GC Report)\n",
    "\n",
    "Democracy category (dcat columns):\n",
    "* full\n",
    "* flawed\n",
    "* hybrid\n",
    "* authoritarian\n",
    "\n",
    "Democracy score meanings:\n",
    "* dscore1: electoral process and pluralism, \n",
    "* dscore2: Functioning of government,\n",
    "* dscore3: degree of political participation, \n",
    "* dscore4: democratic political culture, and \n",
    "* dscore5: civil liberties"
   ]
  },
  {
   "cell_type": "code",
   "execution_count": 18,
   "metadata": {
    "ExecuteTime": {
     "end_time": "2017-11-23T05:55:42.830253Z",
     "start_time": "2017-11-23T05:55:42.499638Z"
    }
   },
   "outputs": [
    {
     "data": {
      "text/plain": [
       "Text(0.5,0,'Category')"
      ]
     },
     "execution_count": 18,
     "metadata": {},
     "output_type": "execute_result"
    },
    {
     "data": {
      "image/png": "[encoded data removed]",
      "text/plain": [
       "<matplotlib.figure.Figure at 0x7f096be2a0b8>"
      ]
     },
     "metadata": {},
     "output_type": "display_data"
    }
   ],
   "source": [
    "import seaborn as sb\n",
    "#sb.set_style('whitegrid')\n",
    "\n",
    "fig = pl.figure(figsize=(15,10))\n",
    "\n",
    "sb.boxplot(x='dcat',y='gcr2_score', data=data)\n",
    "pl.ylabel('Infrastructure Score in 2016',fontsize=fontsize)\n",
    "pl.xlabel('Category',fontsize=fontsize)\n",
    "#pl.xticks(rotation=45)"
   ]
  },
  {
   "cell_type": "code",
   "execution_count": 19,
   "metadata": {
    "ExecuteTime": {
     "end_time": "2017-11-23T05:55:42.880492Z",
     "start_time": "2017-11-23T05:55:42.833853Z"
    }
   },
   "outputs": [
    {
     "data": {
      "text/html": [
       "<div>\n",
       "<style>\n",
       "    .dataframe thead tr:only-child th {\n",
       "        text-align: right;\n",
       "    }\n",
       "\n",
       "    .dataframe thead th {\n",
       "        text-align: left;\n",
       "    }\n",
       "\n",
       "    .dataframe tbody tr th {\n",
       "        vertical-align: top;\n",
       "    }\n",
       "</style>\n",
       "<table border=\"1\" class=\"dataframe\">\n",
       "  <thead>\n",
       "    <tr style=\"text-align: right;\">\n",
       "      <th></th>\n",
       "      <th>25%</th>\n",
       "      <th>50%</th>\n",
       "      <th>75%</th>\n",
       "    </tr>\n",
       "  </thead>\n",
       "  <tbody>\n",
       "    <tr>\n",
       "      <th>Authoritarian</th>\n",
       "      <td>2.8475</td>\n",
       "      <td>3.520</td>\n",
       "      <td>4.3450</td>\n",
       "    </tr>\n",
       "    <tr>\n",
       "      <th>Flawed democracy</th>\n",
       "      <td>3.6700</td>\n",
       "      <td>4.240</td>\n",
       "      <td>4.8500</td>\n",
       "    </tr>\n",
       "    <tr>\n",
       "      <th>Full democracy</th>\n",
       "      <td>5.2850</td>\n",
       "      <td>5.590</td>\n",
       "      <td>5.8100</td>\n",
       "    </tr>\n",
       "    <tr>\n",
       "      <th>Hybrid regime</th>\n",
       "      <td>2.4950</td>\n",
       "      <td>3.015</td>\n",
       "      <td>3.7325</td>\n",
       "    </tr>\n",
       "  </tbody>\n",
       "</table>\n",
       "</div>"
      ],
      "text/plain": [
       "                     25%    50%     75%\n",
       "Authoritarian     2.8475  3.520  4.3450\n",
       "Flawed democracy  3.6700  4.240  4.8500\n",
       "Full democracy    5.2850  5.590  5.8100\n",
       "Hybrid regime     2.4950  3.015  3.7325"
      ]
     },
     "execution_count": 19,
     "metadata": {},
     "output_type": "execute_result"
    }
   ],
   "source": [
    "import numpy as np\n",
    "\n",
    "infrastructure_score = {}\n",
    "for group_name,group_data in data.groupby(by='dcat'):\n",
    "    #compute quartiles\n",
    "    quartiles = np.percentile(group_data['gcr2_score'].dropna(), [25,50,75])\n",
    "    #print('{}:\\t {}'.format(group_name,quartiles))\n",
    "    \n",
    "    #put into a dictionary\n",
    "    infrastructure_score[group_name] = quartiles\n",
    "    \n",
    "#convert dict into a dataframe\n",
    "infra = pd.DataFrame(infrastructure_score).T\n",
    "infra.columns = ['25%','50%','75%']\n",
    "infra"
   ]
  },
  {
   "cell_type": "markdown",
   "metadata": {},
   "source": [
    "## Other GCR scores/ pillar"
   ]
  },
  {
   "cell_type": "code",
   "execution_count": 20,
   "metadata": {
    "ExecuteTime": {
     "end_time": "2017-11-23T05:55:43.770500Z",
     "start_time": "2017-11-23T05:55:42.883504Z"
    }
   },
   "outputs": [
    {
     "data": {
      "text/plain": [
       "Text(0.5,0,'Category')"
      ]
     },
     "execution_count": 20,
     "metadata": {},
     "output_type": "execute_result"
    },
    {
     "data": {
      "image/png": "[encoded data removed]",
      "text/plain": [
       "<matplotlib.figure.Figure at 0x7f096b2b9630>"
      ]
     },
     "metadata": {},
     "output_type": "display_data"
    }
   ],
   "source": [
    "import seaborn as sb\n",
    "\n",
    "fig, ax = pl.subplots(nrows=4,ncols=1,figsize=(15,30))#sharex=True\n",
    "\n",
    "score_names = 'Institutions, Infrastructure,Macroeconomic environment,Health and primary education'.split(',')\n",
    "score_label = ['gcr1_score','gcr2_score','gcr3_score','gcr4_score']\n",
    "\n",
    "n=0\n",
    "for label,name in zip(score_label,score_names):\n",
    "    sb.boxplot(x='dcat',y=label, data=data,ax=ax[n])\n",
    "    ax[n].set_ylabel('{} Score in 2016'.format(name),fontsize=fontsize)\n",
    "    ax[n].set_xlabel('')\n",
    "    ax[n].set_title(name,fontsize=fontsize)\n",
    "    n+=1\n",
    "    \n",
    "ax[n-1].set_xlabel('Category',fontsize=fontsize)"
   ]
  },
  {
   "cell_type": "markdown",
   "metadata": {},
   "source": [
    "Flawed democracy have consistently lower median scores than other regimes followed by Authoritarian regimes. "
   ]
  },
  {
   "cell_type": "markdown",
   "metadata": {},
   "source": [
    "## What countries have which democracy type?"
   ]
  },
  {
   "cell_type": "code",
   "execution_count": 21,
   "metadata": {
    "ExecuteTime": {
     "end_time": "2017-11-23T05:55:43.782892Z",
     "start_time": "2017-11-23T05:55:43.773854Z"
    }
   },
   "outputs": [
    {
     "data": {
      "text/plain": [
       "Flawed democracy    57\n",
       "Authoritarian       51\n",
       "Hybrid regime       40\n",
       "Full democracy      19\n",
       "Name: dcat, dtype: int64"
      ]
     },
     "execution_count": 21,
     "metadata": {},
     "output_type": "execute_result"
    }
   ],
   "source": [
    "data['dcat'].value_counts()"
   ]
  },
  {
   "cell_type": "markdown",
   "metadata": {},
   "source": [
    "## Global Competitiveness Rank (GCR)"
   ]
  },
  {
   "cell_type": "code",
   "execution_count": 22,
   "metadata": {
    "ExecuteTime": {
     "end_time": "2017-11-23T05:55:43.808286Z",
     "start_time": "2017-11-23T05:55:43.786588Z"
    }
   },
   "outputs": [
    {
     "data": {
      "text/html": [
       "<div>\n",
       "<style>\n",
       "    .dataframe thead tr:only-child th {\n",
       "        text-align: right;\n",
       "    }\n",
       "\n",
       "    .dataframe thead th {\n",
       "        text-align: left;\n",
       "    }\n",
       "\n",
       "    .dataframe tbody tr th {\n",
       "        vertical-align: top;\n",
       "    }\n",
       "</style>\n",
       "<table border=\"1\" class=\"dataframe\">\n",
       "  <thead>\n",
       "    <tr style=\"text-align: right;\">\n",
       "      <th></th>\n",
       "      <th>countryname</th>\n",
       "      <th>gcr_rank</th>\n",
       "      <th>dcat</th>\n",
       "    </tr>\n",
       "  </thead>\n",
       "  <tbody>\n",
       "    <tr>\n",
       "      <th>97</th>\n",
       "      <td>Singapore</td>\n",
       "      <td>1.0</td>\n",
       "      <td>Flawed democracy</td>\n",
       "    </tr>\n",
       "    <tr>\n",
       "      <th>159</th>\n",
       "      <td>Switzerland</td>\n",
       "      <td>2.0</td>\n",
       "      <td>Full democracy</td>\n",
       "    </tr>\n",
       "    <tr>\n",
       "      <th>99</th>\n",
       "      <td>Hong Kong SAR</td>\n",
       "      <td>3.0</td>\n",
       "      <td>Flawed democracy</td>\n",
       "    </tr>\n",
       "    <tr>\n",
       "      <th>155</th>\n",
       "      <td>Netherlands</td>\n",
       "      <td>4.0</td>\n",
       "      <td>Full democracy</td>\n",
       "    </tr>\n",
       "    <tr>\n",
       "      <th>32</th>\n",
       "      <td>Qatar</td>\n",
       "      <td>5.0</td>\n",
       "      <td>Authoritarian</td>\n",
       "    </tr>\n",
       "    <tr>\n",
       "      <th>166</th>\n",
       "      <td>Norway</td>\n",
       "      <td>6.0</td>\n",
       "      <td>Full democracy</td>\n",
       "    </tr>\n",
       "    <tr>\n",
       "      <th>164</th>\n",
       "      <td>Sweden</td>\n",
       "      <td>7.0</td>\n",
       "      <td>Full democracy</td>\n",
       "    </tr>\n",
       "    <tr>\n",
       "      <th>163</th>\n",
       "      <td>New Zealand</td>\n",
       "      <td>8.0</td>\n",
       "      <td>Full democracy</td>\n",
       "    </tr>\n",
       "    <tr>\n",
       "      <th>156</th>\n",
       "      <td>Luxembourg</td>\n",
       "      <td>9.0</td>\n",
       "      <td>Full democracy</td>\n",
       "    </tr>\n",
       "    <tr>\n",
       "      <th>154</th>\n",
       "      <td>Germany</td>\n",
       "      <td>10.0</td>\n",
       "      <td>Full democracy</td>\n",
       "    </tr>\n",
       "  </tbody>\n",
       "</table>\n",
       "</div>"
      ],
      "text/plain": [
       "       countryname  gcr_rank              dcat\n",
       "97       Singapore       1.0  Flawed democracy\n",
       "159    Switzerland       2.0    Full democracy\n",
       "99   Hong Kong SAR       3.0  Flawed democracy\n",
       "155    Netherlands       4.0    Full democracy\n",
       "32           Qatar       5.0     Authoritarian\n",
       "166         Norway       6.0    Full democracy\n",
       "164         Sweden       7.0    Full democracy\n",
       "163    New Zealand       8.0    Full democracy\n",
       "156     Luxembourg       9.0    Full democracy\n",
       "154        Germany      10.0    Full democracy"
      ]
     },
     "execution_count": 22,
     "metadata": {},
     "output_type": "execute_result"
    }
   ],
   "source": [
    "#top10\n",
    "data.sort_values(by='gcr_rank')[['countryname','gcr_rank','dcat']][:10]"
   ]
  },
  {
   "cell_type": "code",
   "execution_count": 23,
   "metadata": {
    "ExecuteTime": {
     "end_time": "2017-11-23T05:55:43.836733Z",
     "start_time": "2017-11-23T05:55:43.811834Z"
    }
   },
   "outputs": [
    {
     "data": {
      "text/html": [
       "<div>\n",
       "<style>\n",
       "    .dataframe thead tr:only-child th {\n",
       "        text-align: right;\n",
       "    }\n",
       "\n",
       "    .dataframe thead th {\n",
       "        text-align: left;\n",
       "    }\n",
       "\n",
       "    .dataframe tbody tr th {\n",
       "        vertical-align: top;\n",
       "    }\n",
       "</style>\n",
       "<table border=\"1\" class=\"dataframe\">\n",
       "  <thead>\n",
       "    <tr style=\"text-align: right;\">\n",
       "      <th></th>\n",
       "      <th>countryname</th>\n",
       "      <th>gcr_rank</th>\n",
       "      <th>dcat</th>\n",
       "    </tr>\n",
       "  </thead>\n",
       "  <tbody>\n",
       "    <tr>\n",
       "      <th>59</th>\n",
       "      <td>Sierra Leone</td>\n",
       "      <td>129.0</td>\n",
       "      <td>Hybrid regime</td>\n",
       "    </tr>\n",
       "    <tr>\n",
       "      <th>17</th>\n",
       "      <td>Burundi</td>\n",
       "      <td>130.0</td>\n",
       "      <td>Authoritarian</td>\n",
       "    </tr>\n",
       "    <tr>\n",
       "      <th>48</th>\n",
       "      <td>Mauritania</td>\n",
       "      <td>131.0</td>\n",
       "      <td>Authoritarian</td>\n",
       "    </tr>\n",
       "    <tr>\n",
       "      <th>74</th>\n",
       "      <td>Liberia</td>\n",
       "      <td>132.0</td>\n",
       "      <td>Hybrid regime</td>\n",
       "    </tr>\n",
       "    <tr>\n",
       "      <th>51</th>\n",
       "      <td>Mozambique</td>\n",
       "      <td>133.0</td>\n",
       "      <td>Hybrid regime</td>\n",
       "    </tr>\n",
       "    <tr>\n",
       "      <th>60</th>\n",
       "      <td>Venezuela</td>\n",
       "      <td>134.0</td>\n",
       "      <td>Hybrid regime</td>\n",
       "    </tr>\n",
       "    <tr>\n",
       "      <th>2</th>\n",
       "      <td>Chad</td>\n",
       "      <td>135.0</td>\n",
       "      <td>Authoritarian</td>\n",
       "    </tr>\n",
       "    <tr>\n",
       "      <th>58</th>\n",
       "      <td>Nigeria</td>\n",
       "      <td>136.0</td>\n",
       "      <td>Hybrid regime</td>\n",
       "    </tr>\n",
       "    <tr>\n",
       "      <th>76</th>\n",
       "      <td>Malawi</td>\n",
       "      <td>137.0</td>\n",
       "      <td>Hybrid regime</td>\n",
       "    </tr>\n",
       "    <tr>\n",
       "      <th>11</th>\n",
       "      <td>Yemen</td>\n",
       "      <td>138.0</td>\n",
       "      <td>Authoritarian</td>\n",
       "    </tr>\n",
       "  </tbody>\n",
       "</table>\n",
       "</div>"
      ],
      "text/plain": [
       "     countryname  gcr_rank           dcat\n",
       "59  Sierra Leone     129.0  Hybrid regime\n",
       "17       Burundi     130.0  Authoritarian\n",
       "48    Mauritania     131.0  Authoritarian\n",
       "74       Liberia     132.0  Hybrid regime\n",
       "51    Mozambique     133.0  Hybrid regime\n",
       "60     Venezuela     134.0  Hybrid regime\n",
       "2           Chad     135.0  Authoritarian\n",
       "58       Nigeria     136.0  Hybrid regime\n",
       "76        Malawi     137.0  Hybrid regime\n",
       "11         Yemen     138.0  Authoritarian"
      ]
     },
     "execution_count": 23,
     "metadata": {},
     "output_type": "execute_result"
    }
   ],
   "source": [
    "#bottom10\n",
    "data.sort_values(by='gcr_rank')[['countryname','gcr_rank','dcat']].dropna()[-10:]"
   ]
  },
  {
   "cell_type": "markdown",
   "metadata": {},
   "source": [
    "## Summarize democracy scores with some statistic\n",
    "\n",
    "* gcr1_score: Institutions\n",
    "* gcr2_score: Infrastructure\n",
    "* gcr3_score: Macroeconomic environment\n",
    "* gcr4_score: Health and primary education"
   ]
  },
  {
   "cell_type": "code",
   "execution_count": 24,
   "metadata": {
    "ExecuteTime": {
     "end_time": "2017-11-23T05:55:43.869378Z",
     "start_time": "2017-11-23T05:55:43.840561Z"
    }
   },
   "outputs": [
    {
     "data": {
      "text/html": [
       "<div>\n",
       "<style>\n",
       "    .dataframe thead tr:only-child th {\n",
       "        text-align: right;\n",
       "    }\n",
       "\n",
       "    .dataframe thead th {\n",
       "        text-align: left;\n",
       "    }\n",
       "\n",
       "    .dataframe tbody tr th {\n",
       "        vertical-align: top;\n",
       "    }\n",
       "</style>\n",
       "<table border=\"1\" class=\"dataframe\">\n",
       "  <thead>\n",
       "    <tr style=\"text-align: right;\">\n",
       "      <th></th>\n",
       "      <th>dscore1</th>\n",
       "      <th>dscore1</th>\n",
       "      <th>dscore2</th>\n",
       "      <th>dscore4</th>\n",
       "    </tr>\n",
       "  </thead>\n",
       "  <tbody>\n",
       "    <tr>\n",
       "      <th>count</th>\n",
       "      <td>167.000000</td>\n",
       "      <td>167.000000</td>\n",
       "      <td>167.000000</td>\n",
       "      <td>167.000000</td>\n",
       "    </tr>\n",
       "    <tr>\n",
       "      <th>mean</th>\n",
       "      <td>5.926527</td>\n",
       "      <td>5.926527</td>\n",
       "      <td>4.911617</td>\n",
       "      <td>5.612695</td>\n",
       "    </tr>\n",
       "    <tr>\n",
       "      <th>std</th>\n",
       "      <td>3.521920</td>\n",
       "      <td>3.521920</td>\n",
       "      <td>2.490249</td>\n",
       "      <td>1.678793</td>\n",
       "    </tr>\n",
       "    <tr>\n",
       "      <th>min</th>\n",
       "      <td>0.000000</td>\n",
       "      <td>0.000000</td>\n",
       "      <td>0.000000</td>\n",
       "      <td>1.250000</td>\n",
       "    </tr>\n",
       "    <tr>\n",
       "      <th>25%</th>\n",
       "      <td>2.835000</td>\n",
       "      <td>2.835000</td>\n",
       "      <td>2.930000</td>\n",
       "      <td>4.380000</td>\n",
       "    </tr>\n",
       "    <tr>\n",
       "      <th>50%</th>\n",
       "      <td>7.000000</td>\n",
       "      <td>7.000000</td>\n",
       "      <td>5.360000</td>\n",
       "      <td>5.630000</td>\n",
       "    </tr>\n",
       "    <tr>\n",
       "      <th>75%</th>\n",
       "      <td>9.170000</td>\n",
       "      <td>9.170000</td>\n",
       "      <td>6.965000</td>\n",
       "      <td>6.880000</td>\n",
       "    </tr>\n",
       "    <tr>\n",
       "      <th>max</th>\n",
       "      <td>10.000000</td>\n",
       "      <td>10.000000</td>\n",
       "      <td>9.640000</td>\n",
       "      <td>10.000000</td>\n",
       "    </tr>\n",
       "  </tbody>\n",
       "</table>\n",
       "</div>"
      ],
      "text/plain": [
       "          dscore1     dscore1     dscore2     dscore4\n",
       "count  167.000000  167.000000  167.000000  167.000000\n",
       "mean     5.926527    5.926527    4.911617    5.612695\n",
       "std      3.521920    3.521920    2.490249    1.678793\n",
       "min      0.000000    0.000000    0.000000    1.250000\n",
       "25%      2.835000    2.835000    2.930000    4.380000\n",
       "50%      7.000000    7.000000    5.360000    5.630000\n",
       "75%      9.170000    9.170000    6.965000    6.880000\n",
       "max     10.000000   10.000000    9.640000   10.000000"
      ]
     },
     "execution_count": 24,
     "metadata": {},
     "output_type": "execute_result"
    }
   ],
   "source": [
    "cols = 'dscore1,dscore1,dscore2,dscore4'.split(',')\n",
    "data[cols].describe()"
   ]
  },
  {
   "cell_type": "code",
   "execution_count": null,
   "metadata": {
    "collapsed": true
   },
   "outputs": [],
   "source": []
  }
 ],
 "metadata": {
  "kernelspec": {
   "display_name": "Python 3",
   "language": "python",
   "name": "python3"
  },
  "language_info": {
   "codemirror_mode": {
    "name": "ipython",
    "version": 3
   },
   "file_extension": ".py",
   "mimetype": "text/x-python",
   "name": "python",
   "nbconvert_exporter": "python",
   "pygments_lexer": "ipython3",
   "version": "3.6.1"
  }
 },
 "nbformat": 4,
 "nbformat_minor": 2
}
